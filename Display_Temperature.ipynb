import pandas as pd
import matplotlib.pyplot as plt

# Read CSV data
csv_path = r'C:\Users\Mini project\f\dht_data.csv'  # Update with your file path
data = pd.read_csv(csv_path, sep=',', header=None, names=['Temperature', 'Humidity'])

# Plotting Temperature
plt.figure(figsize=(10, 6))
plt.plot(data.index, data['Temperature'], color='blue')
plt.xlabel('Time')
plt.ylabel('Temperature')
plt.title('Temperature Over Time')
plt.xticks(rotation=45)
plt.tight_layout()

# Display the Temperature plot
plt.show()

# Plotting Humidity
plt.figure(figsize=(10, 6))
plt.plot(data.index, data['Humidity'], color='green')
plt.xlabel('Time')
plt.ylabel('Humidity')
plt.title('Humidity Over Time')
plt.xticks(rotation=45)
plt.tight_layout()

# Display the Humidity plot
plt.show()
